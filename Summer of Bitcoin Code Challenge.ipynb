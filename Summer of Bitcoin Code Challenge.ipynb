{
 "cells": [
  {
   "cell_type": "code",
   "execution_count": 89,
   "metadata": {},
   "outputs": [],
   "source": [
    "# Import Dependencies\n",
    "import pandas as pd"
   ]
  },
  {
   "cell_type": "code",
   "execution_count": 90,
   "metadata": {},
   "outputs": [
    {
     "data": {
      "text/html": [
       "<div>\n",
       "<style scoped>\n",
       "    .dataframe tbody tr th:only-of-type {\n",
       "        vertical-align: middle;\n",
       "    }\n",
       "\n",
       "    .dataframe tbody tr th {\n",
       "        vertical-align: top;\n",
       "    }\n",
       "\n",
       "    .dataframe thead th {\n",
       "        text-align: right;\n",
       "    }\n",
       "</style>\n",
       "<table border=\"1\" class=\"dataframe\">\n",
       "  <thead>\n",
       "    <tr style=\"text-align: right;\">\n",
       "      <th></th>\n",
       "      <th>tx_id</th>\n",
       "      <th>fee</th>\n",
       "      <th>weight</th>\n",
       "      <th>parents</th>\n",
       "    </tr>\n",
       "  </thead>\n",
       "  <tbody>\n",
       "    <tr>\n",
       "      <th>0</th>\n",
       "      <td>2e3da8fbc1eaca8ed9b7c2db9e6545d8ccac3c67deadee...</td>\n",
       "      <td>452</td>\n",
       "      <td>1620</td>\n",
       "      <td>NaN</td>\n",
       "    </tr>\n",
       "    <tr>\n",
       "      <th>1</th>\n",
       "      <td>79c51c9d4124c5cbb37a85263748dcf44e182dff83561f...</td>\n",
       "      <td>682</td>\n",
       "      <td>1136</td>\n",
       "      <td>6eb38fad135e38a93cb47a15a5f953cbc0563fd84bf1ab...</td>\n",
       "    </tr>\n",
       "    <tr>\n",
       "      <th>2</th>\n",
       "      <td>b0ef627c8dc2a706475d33d7712209ec779f7a8302aaea...</td>\n",
       "      <td>226</td>\n",
       "      <td>900</td>\n",
       "      <td>NaN</td>\n",
       "    </tr>\n",
       "    <tr>\n",
       "      <th>3</th>\n",
       "      <td>8c25f9be93990b96e8bc363778d6debee6867c7d73cefa...</td>\n",
       "      <td>258</td>\n",
       "      <td>1032</td>\n",
       "      <td>NaN</td>\n",
       "    </tr>\n",
       "    <tr>\n",
       "      <th>4</th>\n",
       "      <td>edc82751537be6afcb21c0229d8d20916d8e742a363ab2...</td>\n",
       "      <td>452</td>\n",
       "      <td>1616</td>\n",
       "      <td>NaN</td>\n",
       "    </tr>\n",
       "  </tbody>\n",
       "</table>\n",
       "</div>"
      ],
      "text/plain": [
       "                                               tx_id  fee  weight  \\\n",
       "0  2e3da8fbc1eaca8ed9b7c2db9e6545d8ccac3c67deadee...  452    1620   \n",
       "1  79c51c9d4124c5cbb37a85263748dcf44e182dff83561f...  682    1136   \n",
       "2  b0ef627c8dc2a706475d33d7712209ec779f7a8302aaea...  226     900   \n",
       "3  8c25f9be93990b96e8bc363778d6debee6867c7d73cefa...  258    1032   \n",
       "4  edc82751537be6afcb21c0229d8d20916d8e742a363ab2...  452    1616   \n",
       "\n",
       "                                            parents   \n",
       "0                                                NaN  \n",
       "1  6eb38fad135e38a93cb47a15a5f953cbc0563fd84bf1ab...  \n",
       "2                                                NaN  \n",
       "3                                                NaN  \n",
       "4                                                NaN  "
      ]
     },
     "execution_count": 90,
     "metadata": {},
     "output_type": "execute_result"
    }
   ],
   "source": [
    "# Import CSV into a Dataframe\n",
    "df  = pd.read_csv(\"mempool.csv\")\n",
    "df.head()"
   ]
  },
  {
   "cell_type": "markdown",
   "metadata": {},
   "source": [
    "## Defining All Individual Functions"
   ]
  },
  {
   "cell_type": "code",
   "execution_count": 91,
   "metadata": {},
   "outputs": [],
   "source": [
    "# Sort the Dataframe on the basis of Fee & Weight\n",
    "# We want to maximise the fee & minimise the weight\n",
    "# The function takes a dataframe and two features as parameters\n",
    "def sort_df(df, maxProp, minProp):\n",
    "    df = df.sort_values([maxProp, minProp], ascending=[False, True]).reset_index(drop=True)\n",
    "    return df"
   ]
  },
  {
   "cell_type": "code",
   "execution_count": 92,
   "metadata": {},
   "outputs": [],
   "source": [
    "# Checking if the current Transaction will excede the weight limit\n",
    "# The function will take the help of 2 global variables - max_weight & current_weight\n",
    "# The function takes a pandas series as a parameter\n",
    "\n",
    "def check_weight(x):\n",
    "    if current_weight + x['weight'] <= max_weight:\n",
    "        return True\n",
    "    else:\n",
    "        return False"
   ]
  },
  {
   "cell_type": "code",
   "execution_count": 93,
   "metadata": {},
   "outputs": [],
   "source": [
    "# Checking if the transaction already exists in the global list\n",
    "# The function will take the help of 1 global variable - final_list\n",
    "# the function takes a transaction as a parameter\n",
    "\n",
    "def check_in_list(x):\n",
    "    if str(x) in final_list:\n",
    "        return True\n",
    "    else:\n",
    "        return False"
   ]
  },
  {
   "cell_type": "code",
   "execution_count": 94,
   "metadata": {},
   "outputs": [],
   "source": [
    "# Checking the parents if the exist in the global list - final_txn and if not, adding them to the list(if eligible) before adding the child \n",
    "# The function takes a pandas series and the dataframe as parameters\n",
    "\n",
    "def check_parent(x):\n",
    "    parents = str(x[3])\n",
    "    if parents != \"nan\":\n",
    "        parent_list = parents.split(\";\")\n",
    "        for i in parent_list:\n",
    "            if(check_in_list(i)):\n",
    "                continue\n",
    "            else:\n",
    "                txnindex = df[df['tx_id'] == i].index.item()\n",
    "                k = df.loc[txnindex]\n",
    "                check_add_txn(k)"
   ]
  },
  {
   "cell_type": "code",
   "execution_count": 95,
   "metadata": {},
   "outputs": [],
   "source": [
    "# Adding the transaction to the final list - final_list while will be used to generate the .txt file\n",
    "# The function takes a transaction as a parameter\n",
    "\n",
    "def add_to_list(x):\n",
    "    global current_weight\n",
    "    txnID = x[0]\n",
    "    weight = x[2]\n",
    "    current_weight += weight\n",
    "    final_list.append(txnID)"
   ]
  },
  {
   "cell_type": "code",
   "execution_count": 96,
   "metadata": {},
   "outputs": [],
   "source": [
    "# All the checks before appending the transaction to the list\n",
    "# The function takes a transaction as a parameter\n",
    "\n",
    "def check_add_txn(x):\n",
    "    if(check_weight(x)):\n",
    "        if(not check_in_list(x)):\n",
    "            check_parent(x)\n",
    "            if(check_weight(x)):\n",
    "                add_to_list(x)            "
   ]
  },
  {
   "cell_type": "code",
   "execution_count": 97,
   "metadata": {},
   "outputs": [],
   "source": [
    "# Taking the df, sorting it and iterating over each transaction, checking it and adding it to the final list(if eligible)\n",
    "\n",
    "def mempoolMain(df):\n",
    "    sortedDF = sort_df(df, \"fee\", \"weight\")\n",
    "    for i in range(len(sortedDF)):\n",
    "        txnVar = sortedDF.loc[i]\n",
    "        check_add_txn(txnVar)"
   ]
  },
  {
   "cell_type": "code",
   "execution_count": 110,
   "metadata": {},
   "outputs": [],
   "source": [
    "# Creating the text file using the final list\n",
    "\n",
    "def create_textfile(fin_list):\n",
    "    file = open(\"block.txt\",\"a\")\n",
    "    for i in fin_list:\n",
    "        file.write(str(i) + '\\n')\n",
    "    file.close()"
   ]
  },
  {
   "cell_type": "markdown",
   "metadata": {},
   "source": [
    "# Main Program"
   ]
  },
  {
   "cell_type": "code",
   "execution_count": 111,
   "metadata": {},
   "outputs": [],
   "source": [
    "# Declaring the global variables\n",
    "\n",
    "max_weight = 4000000\n",
    "current_weight = 0\n",
    "final_list = []\n",
    "\n",
    "# feeding the dataframe as \"data\" imported above to the func - mempoolMain and populating the final_list\n",
    "data = df\n",
    "mempoolMain(data)\n",
    "\n",
    "# Creating the text file using final_list\n",
    "create_textfile(final_list)"
   ]
  },
  {
   "cell_type": "code",
   "execution_count": 107,
   "metadata": {},
   "outputs": [],
   "source": []
  },
  {
   "cell_type": "code",
   "execution_count": null,
   "metadata": {},
   "outputs": [],
   "source": []
  }
 ],
 "metadata": {
  "kernelspec": {
   "display_name": "Python 3",
   "language": "python",
   "name": "python3"
  },
  "language_info": {
   "codemirror_mode": {
    "name": "ipython",
    "version": 3
   },
   "file_extension": ".py",
   "mimetype": "text/x-python",
   "name": "python",
   "nbconvert_exporter": "python",
   "pygments_lexer": "ipython3",
   "version": "3.7.4"
  }
 },
 "nbformat": 4,
 "nbformat_minor": 4
}
